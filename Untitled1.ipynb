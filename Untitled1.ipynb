{
  "cells": [
    {
      "cell_type": "code",
      "execution_count": 115,
      "metadata": {
        "colab": {
          "base_uri": "https://localhost:8080/"
        },
        "id": "RG7YY5i8R-nv",
        "outputId": "2dc1cdcb-f85e-4689-a035-409c89130413"
      },
      "outputs": [
        {
          "name": "stdout",
          "output_type": "stream",
          "text": [
            "Requirement already satisfied: pydealer in /usr/local/lib/python3.7/dist-packages (1.4.0)\n",
            "Collecting emoji\n",
            "  Downloading emoji-1.6.1.tar.gz (170 kB)\n",
            "\u001b[K     |████████████████████████████████| 170 kB 24.7 MB/s \n",
            "\u001b[?25hBuilding wheels for collected packages: emoji\n",
            "  Building wheel for emoji (setup.py) ... \u001b[?25l\u001b[?25hdone\n",
            "  Created wheel for emoji: filename=emoji-1.6.1-py3-none-any.whl size=169314 sha256=d66d6af94f31f361dfa0ea9189958920eb0d74044897ef906f5d8dfae607e048\n",
            "  Stored in directory: /root/.cache/pip/wheels/ea/5f/d3/03d313ddb3c2a1a427bb4690f1621eea60fe6f2a30cc95940f\n",
            "Successfully built emoji\n",
            "Installing collected packages: emoji\n",
            "Successfully installed emoji-1.6.1\n"
          ]
        }
      ],
      "source": [
        "#!pip install pydealer\n"
      ]
    },
    {
      "cell_type": "code",
      "execution_count": 139,
      "metadata": {
        "colab": {
          "base_uri": "https://localhost:8080/"
        },
        "id": "StyKvr6_KW7Z",
        "outputId": "ba294161-c561-4e6e-831c-2b11c6001a7a"
      },
      "outputs": [
        {
          "name": "stdout",
          "output_type": "stream",
          "text": [
            "####### Dealer #######\n",
            "┌─────────┐ ~ * * * ~ \n",
            "│10       │ ~ * * * ~ \n",
            "│         │ ~ * * * ~ \n",
            "│         │ ~ * * * ~ \n",
            "│    ♣    │ ~ * * * ~ \n",
            "│         │ ~ * * * ~ \n",
            "│         │ ~ * * * ~ \n",
            "│       10│ ~ * * * ~ \n",
            "└─────────┘ ~ * * * ~ \n",
            ">>----- Agents -----<<\n",
            "┌─────────┐┌─────────┐┌─────────┐\n",
            "│2        ││K        ││A        │\n",
            "│         ││         ││         │\n",
            "│         ││         ││         │\n",
            "│    ♠    ││    ♥    ││    ♣    │\n",
            "│         ││         ││         │\n",
            "│         ││         ││         │\n",
            "│        2││        K││        A│\n",
            "└─────────┘└─────────┘└─────────┘\n",
            "######################\n"
          ]
        }
      ],
      "source": [
        "import pydealer\n",
        "\n",
        "class Card(object):\n",
        "\n",
        "    card_values = {\n",
        "        'Ace': 11,\n",
        "        '2': 2,\n",
        "        '3': 3,\n",
        "        '4': 4,\n",
        "        '5': 5,\n",
        "        '6': 6,\n",
        "        '7': 7,\n",
        "        '8': 8,\n",
        "        '9': 9,\n",
        "        '10': 10,\n",
        "        'Jack': 10,\n",
        "        'Queen': 10,\n",
        "        'King': 10\n",
        "    }\n",
        "\n",
        "    def __init__(self, suit, value):\n",
        "        self.suit = suit.capitalize()\n",
        "        self.value = value\n",
        "        self.points = self.card_values[value]\n",
        "\n",
        "def ascii_version_of_card(cards, add_inv = False):\n",
        "    suits_name = ['Spades', 'Diamonds', 'Hearts', 'Clubs']\n",
        "    suits_symbols = ['♠', '♦', '♥', '♣']\n",
        "    lines = [[] for i in range(9)]\n",
        "\n",
        "    for index, card in enumerate(cards):\n",
        "      if card.value == '10': \n",
        "          value = card.value\n",
        "          space = ''\n",
        "      else:\n",
        "          value = card.value[0]\n",
        "          space = ' ' \n",
        "      suit = suits_name.index(card.suit)\n",
        "      suit = suits_symbols[suit]\n",
        "\n",
        "      lines[0].append('┌─────────┐')\n",
        "      lines[1].append('│{}{}       │'.format(value, space))\n",
        "      lines[2].append('│         │')\n",
        "      lines[3].append('│         │')\n",
        "      lines[4].append('│    {}    │'.format(suit))\n",
        "      lines[5].append('│         │')\n",
        "      lines[6].append('│         │')\n",
        "      lines[7].append('│       {}{}│'.format(space, value))\n",
        "      lines[8].append('└─────────┘')\n",
        "\n",
        "    result = []\n",
        "    for index, line in enumerate(lines):\n",
        "      if(add_inv == False):\n",
        "        result.append(''.join(lines[index]))\n",
        "      else:\n",
        "        lines[index].append(\" ~ * * * ~ \")\n",
        "        result.append(''.join(lines[index]))\n",
        "\n",
        "    return '\\n'.join(result)\n",
        "\n",
        "\n",
        "deck = pydealer.Deck()\n",
        "deck.shuffle()\n",
        "hand = deck.deal(2)\n",
        "dealer_v = deck.deal(1)\n",
        "dealer_nv = deck.deal(1)\n",
        "\n",
        "pull = deck.deal(1)\n",
        "hand.add(pull)\n",
        "\n",
        "hand.cards[0]\n",
        "print(\"####### Dealer #######\")\n",
        "print(ascii_version_of_card(dealer_v.cards, True))\n",
        "print(\">>----- Agents -----<<\")\n",
        "print(ascii_version_of_card(hand.cards))\n",
        "\n",
        "print(\"######################\")\n",
        "\n",
        "\n",
        "\n",
        "\n"
      ]
    },
    {
      "cell_type": "code",
      "execution_count": 150,
      "metadata": {
        "colab": {
          "base_uri": "https://localhost:8080/"
        },
        "id": "WhcYXvkYkcRG",
        "outputId": "05b52cea-713f-4cdb-fd35-f4d7714b4067"
      },
      "outputs": [
        {
          "name": "stdout",
          "output_type": "stream",
          "text": [
            "[[1 1 1 1 1 1 1 1 1 1 1 1 1 1 1 1 1 1]\n",
            " [1 1 1 1 1 1 1 1 1 1 1 1 1 1 1 1 1 1]\n",
            " [1 1 1 1 1 1 1 1 1 1 1 1 1 1 1 1 1 1]\n",
            " [1 1 1 1 1 1 1 1 1 1 1 1 1 1 1 1 1 1]\n",
            " [1 1 1 1 1 1 1 1 1 1 1 1 1 1 1 1 1 1]\n",
            " [1 1 1 1 1 1 1 1 1 1 1 1 1 1 1 1 1 1]\n",
            " [1 1 1 1 1 1 1 1 1 1 1 1 1 1 1 1 1 1]\n",
            " [1 1 1 1 1 1 1 1 1 1 1 1 1 1 1 1 1 1]\n",
            " [1 1 1 1 1 1 1 1 1 1 1 1 1 1 1 1 1 1]]\n"
          ]
        }
      ],
      "source": [
        "import numpy as np\n",
        "\n",
        "\n",
        "def Table(): \n",
        "  card_values = {\n",
        "        'Ace': 11,\n",
        "        '2': 2,\n",
        "        '3': 3,\n",
        "        '4': 4,\n",
        "        '5': 5,\n",
        "        '6': 6,\n",
        "        '7': 7,\n",
        "        '8': 8,\n",
        "        '9': 9,\n",
        "        '10': 10,\n",
        "        'Jack': 10,\n",
        "        'Queen': 10,\n",
        "        'King': 10\n",
        "    }\n",
        "\n",
        "\n",
        "  def __init__(self):\n",
        "    self.deck = pydealer.Deck()\n",
        "    self.deck.shufle()\n",
        "    self.hand = deck.deal(2)\n",
        "    self.dealer_v = deck.deal(1)\n",
        "    self.dealer_nv = deck.deal(1)\n",
        "\n",
        "    self.hand_sum = 0\n",
        "    for i in self.hand:\n",
        "      self.hand_sum += card_values[i.value]\n",
        "    self.dealer_sum = card_values[dealer_v.value]\n",
        "\n",
        "hit_win = np.full((9, 18), 1)\n",
        "hit_play = np.full((9, 18), 1)\n",
        "check_win = np.full((9, 18), 1)\n",
        "check_play = np.full((9, 18), 1)\n",
        "\n",
        "print(hit_win)\n",
        "\n",
        "deck = pydealer.Deck()\n",
        "deck.shuffle()\n",
        "\n",
        "hand = deck.deal(2)\n",
        "dealer_v = deck.deal(1)\n",
        "dealer_nv = deck.deal(1)\n",
        "\n",
        "a = Table()\n",
        "\n"
      ]
    }
  ],
  "metadata": {
    "colab": {
      "collapsed_sections": [],
      "name": "Untitled1.ipynb",
      "provenance": []
    },
    "kernelspec": {
      "display_name": "Python 3",
      "name": "python3"
    },
    "language_info": {
      "name": "python"
    }
  },
  "nbformat": 4,
  "nbformat_minor": 0
}
